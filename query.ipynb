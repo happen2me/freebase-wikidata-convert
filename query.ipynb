{
 "cells": [
  {
   "attachments": {},
   "cell_type": "markdown",
   "metadata": {},
   "source": [
    "# Convert Freebase IDs to Wikidata IDs"
   ]
  },
  {
   "attachments": {},
   "cell_type": "markdown",
   "metadata": {},
   "source": [
    "## Prerequisites\n",
    "\n",
    "Deploy the wikidata endpoint locally for fast queries. Please follow [qEndpoint - wikidata](https://github.com/the-qa-company/qEndpoint#qacompanyqendpoint-wikidata) to set up the endpoint.\n",
    "\n",
    "In enssence, you only need to run the following command:\n",
    "\n",
    "`# docker run -p 1234:1234 --name qendpoint-wikidata qacompany/qendpoint-wikidata`"
   ]
  },
  {
   "attachments": {},
   "cell_type": "markdown",
   "metadata": {},
   "source": [
    "## Part 1: Convert Entity IDs"
   ]
  },
  {
   "cell_type": "code",
   "execution_count": 1,
   "metadata": {},
   "outputs": [],
   "source": [
    "from SPARQLWrapper import SPARQLWrapper, JSON\n",
    "\n",
    "sparql = SPARQLWrapper(\n",
    "    \"http://localhost:1234/api/endpoint/sparql\"\n",
    ")\n",
    "sparql.setReturnFormat(JSON)\n",
    "\n",
    "def queryFreebaseId(entity):\n",
    "    sparql.setQuery(f\"\"\"\n",
    "        SELECT DISTINCT ?fid WHERE {{\n",
    "            <http://www.wikidata.org/entity/{entity}> <http://www.wikidata.org/prop/direct/P646> ?fid\n",
    "        }}\n",
    "        LIMIT 1\n",
    "        \"\"\")\n",
    "    try:\n",
    "        ret = sparql.queryAndConvert()        \n",
    "        r = ret[\"results\"][\"bindings\"]\n",
    "        if len(r) > 0:\n",
    "            fid = r[0][\"fid\"][\"value\"]\n",
    "            return fid\n",
    "        return None\n",
    "    except Exception as e:\n",
    "        print(e)\n",
    "        return None"
   ]
  },
  {
   "cell_type": "code",
   "execution_count": 2,
   "metadata": {},
   "outputs": [],
   "source": [
    "import pickle\n",
    "\n",
    "with open('id2entity.pkl', 'rb') as f:\n",
    "    id2entity = pickle.load(f)"
   ]
  },
  {
   "cell_type": "code",
   "execution_count": null,
   "metadata": {},
   "outputs": [
    {
     "name": "stderr",
     "output_type": "stream",
     "text": [
      "  1%|          | 47500/4818298 [06:50<10:50:13, 122.28it/s]"
     ]
    }
   ],
   "source": [
    "from tqdm import tqdm\n",
    "\n",
    "fids = map(queryFreebaseId, tqdm(id2entity))\n",
    "fid2qid = {fid: qid for fid, qid in zip(fids, id2entity) if fid is not None}\n",
    "print(\"Found:\", len(fid2qid))\n",
    "print(f\"Not found: {len(id2entity) - len(fid2qid)} / {len(id2entity)}\")"
   ]
  },
  {
   "cell_type": "code",
   "execution_count": null,
   "metadata": {},
   "outputs": [],
   "source": [
    "with open('fid2qid.pkl', 'wb') as f:\n",
    "    pickle.dump(fid2qid, f)"
   ]
  },
  {
   "attachments": {},
   "cell_type": "markdown",
   "metadata": {},
   "source": [
    "## Part 2: Convert Property IDs"
   ]
  },
  {
   "cell_type": "markdown",
   "metadata": {},
   "source": []
  }
 ],
 "metadata": {
  "kernelspec": {
   "display_name": "base",
   "language": "python",
   "name": "python3"
  },
  "language_info": {
   "codemirror_mode": {
    "name": "ipython",
    "version": 3
   },
   "file_extension": ".py",
   "mimetype": "text/x-python",
   "name": "python",
   "nbconvert_exporter": "python",
   "pygments_lexer": "ipython3",
   "version": "3.10.9"
  },
  "orig_nbformat": 4
 },
 "nbformat": 4,
 "nbformat_minor": 2
}
