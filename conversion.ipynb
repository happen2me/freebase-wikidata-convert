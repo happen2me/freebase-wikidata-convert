{
 "cells": [
  {
   "attachments": {},
   "cell_type": "markdown",
   "metadata": {},
   "source": [
    "# Convert Freebase IDs to Wikidata IDs"
   ]
  },
  {
   "attachments": {},
   "cell_type": "markdown",
   "metadata": {},
   "source": [
    "## Prerequisites\n",
    "\n",
    "Deploy the wikidata endpoint locally for fast queries. Please follow [qEndpoint - wikidata](https://github.com/the-qa-company/qEndpoint#qacompanyqendpoint-wikidata) to set up the endpoint.\n",
    "\n",
    "In enssence, you only need to run the following command:\n",
    "\n",
    "`# docker run -p 1234:1234 --name qendpoint-wikidata qacompany/qendpoint-wikidata`"
   ]
  },
  {
   "attachments": {},
   "cell_type": "markdown",
   "metadata": {},
   "source": [
    "## Part 1: Convert Entity IDs"
   ]
  },
  {
   "cell_type": "code",
   "execution_count": null,
   "metadata": {},
   "outputs": [],
   "source": [
    "from SPARQLWrapper import SPARQLWrapper, JSON\n",
    "\n",
    "sparql = SPARQLWrapper(\n",
    "    \"http://localhost:1234/api/endpoint/sparql\"\n",
    ")\n",
    "sparql.setReturnFormat(JSON)\n",
    "\n",
    "def queryFreebaseId(entity):\n",
    "    sparql.setQuery(f\"\"\"\n",
    "        SELECT DISTINCT ?fid WHERE {{\n",
    "            <http://www.wikidata.org/entity/{entity}> <http://www.wikidata.org/prop/direct/P646> ?fid\n",
    "        }}\n",
    "        LIMIT 1\n",
    "        \"\"\")\n",
    "    try:\n",
    "        ret = sparql.queryAndConvert()        \n",
    "        r = ret[\"results\"][\"bindings\"]\n",
    "        if len(r) > 0:\n",
    "            fid = r[0][\"fid\"][\"value\"]\n",
    "            return fid\n",
    "        return None\n",
    "    except Exception as e:\n",
    "        print(e)\n",
    "        return None"
   ]
  },
  {
   "cell_type": "code",
   "execution_count": null,
   "metadata": {},
   "outputs": [],
   "source": [
    "import pickle\n",
    "\n",
    "with open('id2entity.pkl', 'rb') as f:\n",
    "    id2entity = pickle.load(f)"
   ]
  },
  {
   "cell_type": "code",
   "execution_count": null,
   "metadata": {},
   "outputs": [],
   "source": [
    "from tqdm import tqdm\n",
    "\n",
    "fids = map(queryFreebaseId, tqdm(id2entity))\n",
    "fid2qid = {fid: qid for fid, qid in zip(fids, id2entity) if fid is not None}\n",
    "print(\"Found:\", len(fid2qid))\n",
    "print(f\"Not found: {len(id2entity) - len(fid2qid)} / {len(id2entity)}\")"
   ]
  },
  {
   "cell_type": "code",
   "execution_count": null,
   "metadata": {},
   "outputs": [],
   "source": [
    "with open('fid2qid.pkl', 'wb') as f:\n",
    "    pickle.dump(fid2qid, f)"
   ]
  },
  {
   "attachments": {},
   "cell_type": "markdown",
   "metadata": {},
   "source": [
    "## Part 2: Convert Property IDs\n",
    "\n",
    "This [FAQ page](https://www.wikidata.org/wiki/Help:FAQ/Freebase#How_can_I_map_my_Freebase_Mids_to_Wikidata_Qids?) states that the conversion can be acquired with [*equivalent property (P1628)*](https://www.wikidata.org/wiki/Property:P1628), but the Freebase link is not present in any property.\n",
    "\n",
    "[This page](https://www.wikidata.org/wiki/Wikidata:WikiProject_Freebase) pointed to [Freebase Mapping](https://www.wikidata.org/wiki/Wikidata:WikiProject_Freebase/Mapping) for the current mapping, there are rougly 1000 most popular properties that are mapped to Wikidata.\n",
    "\n",
    "Although the mapping is not complete, there is no better alternatives at the moment. We scrape the mapping from the page and convert the Freebase IDs to Wikidata IDs."
   ]
  },
  {
   "attachments": {},
   "cell_type": "markdown",
   "metadata": {},
   "source": [
    "Since we need to get the mapping from the page, firstly we use [BeautifulSoup](https://www.crummy.com/software/BeautifulSoup/bs4/doc/) to parse the HTML page."
   ]
  },
  {
   "cell_type": "code",
   "execution_count": null,
   "metadata": {},
   "outputs": [],
   "source": [
    "import pickle\n",
    "import requests\n",
    "from bs4 import BeautifulSoup\n",
    "\n",
    "url = \"https://www.wikidata.org/wiki/Wikidata:WikiProject_Freebase/Mapping#Between_100_and_1000_occurencies\"\n",
    "response = requests.get(url)\n",
    "html_doc = response.text\n",
    "soup = BeautifulSoup(html_doc)"
   ]
  },
  {
   "attachments": {},
   "cell_type": "markdown",
   "metadata": {},
   "source": [
    "Secondly, we parse the tables and get the mapping."
   ]
  },
  {
   "cell_type": "code",
   "execution_count": null,
   "metadata": {},
   "outputs": [],
   "source": [
    "mapping = {}\n",
    "rows = soup.find_all(\"tr\")\n",
    "for row in rows:\n",
    "    cols = row.find_all(\"td\")\n",
    "    try:\n",
    "        freebase_url = cols[0].a.attrs[\"href\"]\n",
    "    except Exception:\n",
    "        continue\n",
    "    if 'www.freebase.com' not in freebase_url:\n",
    "        continue\n",
    "    try:\n",
    "        wikidata_url = cols[1].a.attrs[\"href\"]\n",
    "    except AttributeError:\n",
    "        wikidata_url = None\n",
    "    mapping[freebase_url] = wikidata_url\n",
    "\n",
    "print(\"# exsit mapping: \", len(mapping))\n",
    "print(\"# not none mapping: \", len([x for x in mapping.values() if x is not None]))\n",
    "print(\"# wikidata properties mapped:\", len(set(mapping.values())))"
   ]
  },
  {
   "attachments": {},
   "cell_type": "markdown",
   "metadata": {},
   "source": [
    "Thirdly, there are some freebase relations that are the inversions of other freebase relations, we also look them up. "
   ]
  },
  {
   "cell_type": "code",
   "execution_count": null,
   "metadata": {},
   "outputs": [],
   "source": [
    "# In freebase, some relations are the reverse of another relation. For example,\n",
    "# /people/person/place_of_birth is the reverse of /location/location/people_born_here.\n",
    "# We want to keep only one of them, so we keep the one with the most occurences.\n",
    "reverse_relations = {}\n",
    "for row in rows:\n",
    "    cols = row.find_all(\"td\")\n",
    "    try:\n",
    "        freebase_url = cols[0].a.attrs[\"href\"]\n",
    "    except Exception:\n",
    "        continue\n",
    "    try:\n",
    "        reversed_url = row.find_all(\"td\")[-1].find_all(\"a\")[0].attrs[\"href\"]\n",
    "        reverse_relations[freebase_url] = reversed_url\n",
    "    except Exception:\n",
    "        continue\n",
    "print(\"# reverse relations:\", len(reverse_relations))"
   ]
  },
  {
   "attachments": {},
   "cell_type": "markdown",
   "metadata": {},
   "source": [
    "Finally, we save all of the mappings to files."
   ]
  },
  {
   "cell_type": "code",
   "execution_count": null,
   "metadata": {},
   "outputs": [],
   "source": [
    "with open('f2w-properties.pkl', 'wb') as f:\n",
    "    pickle.dump(mapping, f)\n",
    "with open('reversed-properties.pkl', 'wb') as f:\n",
    "    pickle.dump(reverse_relations, f)"
   ]
  },
  {
   "cell_type": "code",
   "execution_count": null,
   "metadata": {},
   "outputs": [],
   "source": []
  }
 ],
 "metadata": {
  "kernelspec": {
   "display_name": "base",
   "language": "python",
   "name": "python3"
  },
  "language_info": {
   "codemirror_mode": {
    "name": "ipython",
    "version": 3
   },
   "file_extension": ".py",
   "mimetype": "text/x-python",
   "name": "python",
   "nbconvert_exporter": "python",
   "pygments_lexer": "ipython3",
   "version": "3.10.9"
  }
 },
 "nbformat": 4,
 "nbformat_minor": 2
}
